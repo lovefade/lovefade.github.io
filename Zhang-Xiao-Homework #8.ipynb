{
 "cells": [
  {
   "cell_type": "markdown",
   "id": "0fb7eac6",
   "metadata": {},
   "source": [
    "# Homework #8\n",
    "\n",
    "### Zhang, Xiao (xiaoz16)\n",
    "\n",
    "\n",
    "Using code [In Class Notebook, Week 07](https://uiuc-ischool-dataviz.github.io/is445_bcubcg_fall2022/nbv.html?notebook_name=%2Fis445_bcubcg_fall2022%2Fweek07%2FinClass_week07.ipynb), [In Class Notebook, Week 08](https://starboard.gg/jnaiman/inClass_week08_inperson_fall2022-n7KTTHb)."
   ]
  },
  {
   "cell_type": "code",
   "execution_count": 1,
   "id": "b4cb1908",
   "metadata": {},
   "outputs": [],
   "source": [
    "import pandas as pd\n",
    "import matplotlib.pyplot as plt\n",
    "import geopandas\n",
    "import bqplot\n",
    "import numpy as np\n",
    "import contextily as ctx\n",
    "import ipywidgets"
   ]
  },
  {
   "cell_type": "code",
   "execution_count": 2,
   "id": "af3edb06",
   "metadata": {},
   "outputs": [],
   "source": [
    "# import data\n",
    "enterprise = geopandas.read_file('https://gisportal.champaignil.gov/ms/rest/services/Open_Data/Open_Data/MapServer/3/query?outFields=*&where=1%3D1&f=geojson')\n",
    "plan_deve = geopandas.read_file('https://gisportal.champaignil.gov/ms/rest/services/Open_Data/Open_Data/MapServer/19/query?outFields=*&where=1%3D1&f=geojson')"
   ]
  },
  {
   "cell_type": "code",
   "execution_count": 3,
   "id": "21545394",
   "metadata": {
    "scrolled": false
   },
   "outputs": [
    {
     "data": {
      "text/html": [
       "<div>\n",
       "<style scoped>\n",
       "    .dataframe tbody tr th:only-of-type {\n",
       "        vertical-align: middle;\n",
       "    }\n",
       "\n",
       "    .dataframe tbody tr th {\n",
       "        vertical-align: top;\n",
       "    }\n",
       "\n",
       "    .dataframe thead th {\n",
       "        text-align: right;\n",
       "    }\n",
       "</style>\n",
       "<table border=\"1\" class=\"dataframe\">\n",
       "  <thead>\n",
       "    <tr style=\"text-align: right;\">\n",
       "      <th></th>\n",
       "      <th>OBJECTID</th>\n",
       "      <th>Council_Bill</th>\n",
       "      <th>Case_</th>\n",
       "      <th>Name</th>\n",
       "      <th>Address</th>\n",
       "      <th>Status</th>\n",
       "      <th>Shape.STArea()</th>\n",
       "      <th>Shape.STLength()</th>\n",
       "      <th>Hyperlink1</th>\n",
       "      <th>geometry</th>\n",
       "    </tr>\n",
       "  </thead>\n",
       "  <tbody>\n",
       "    <tr>\n",
       "      <th>0</th>\n",
       "      <td>1</td>\n",
       "      <td>None</td>\n",
       "      <td>PL05-0011</td>\n",
       "      <td>Uptown on Columbia</td>\n",
       "      <td>517 N Hickory</td>\n",
       "      <td>Under Construction</td>\n",
       "      <td>7.564070e+03</td>\n",
       "      <td>355.790576</td>\n",
       "      <td>https://cityofchampaign.sharepoint.com/:b:/g/E...</td>\n",
       "      <td>POLYGON ((-88.24300 40.12101, -88.24300 40.120...</td>\n",
       "    </tr>\n",
       "    <tr>\n",
       "      <th>1</th>\n",
       "      <td>2</td>\n",
       "      <td>None</td>\n",
       "      <td>1538-97-07-PD</td>\n",
       "      <td>Victoria Point</td>\n",
       "      <td>2302 W John</td>\n",
       "      <td>Conforming</td>\n",
       "      <td>2.665699e+05</td>\n",
       "      <td>2104.744005</td>\n",
       "      <td>https://cityofchampaign.sharepoint.com/:b:/g/E...</td>\n",
       "      <td>POLYGON ((-88.28425 40.10936, -88.28415 40.109...</td>\n",
       "    </tr>\n",
       "    <tr>\n",
       "      <th>2</th>\n",
       "      <td>3</td>\n",
       "      <td>None</td>\n",
       "      <td>1638-00-06-PDA</td>\n",
       "      <td>Barrington Place</td>\n",
       "      <td>2601 W Springfield</td>\n",
       "      <td>Non-conforming</td>\n",
       "      <td>2.890525e+05</td>\n",
       "      <td>2211.202927</td>\n",
       "      <td>https://cityofchampaign.sharepoint.com/:b:/g/E...</td>\n",
       "      <td>POLYGON ((-88.28916 40.11125, -88.28918 40.111...</td>\n",
       "    </tr>\n",
       "    <tr>\n",
       "      <th>3</th>\n",
       "      <td>4</td>\n",
       "      <td>None</td>\n",
       "      <td>411</td>\n",
       "      <td>Hessel on the Park</td>\n",
       "      <td>1862 Valley Rd</td>\n",
       "      <td></td>\n",
       "      <td>9.106698e+05</td>\n",
       "      <td>4215.551430</td>\n",
       "      <td>https://cityofchampaign.sharepoint.com/:b:/g/E...</td>\n",
       "      <td>POLYGON ((-88.24934 40.09801, -88.24964 40.098...</td>\n",
       "    </tr>\n",
       "    <tr>\n",
       "      <th>4</th>\n",
       "      <td>5</td>\n",
       "      <td>None</td>\n",
       "      <td>703</td>\n",
       "      <td>Colony West</td>\n",
       "      <td>Prospect &amp; Windsor</td>\n",
       "      <td></td>\n",
       "      <td>2.343289e+06</td>\n",
       "      <td>7376.695620</td>\n",
       "      <td>https://cityofchampaign.sharepoint.com/:b:/g/E...</td>\n",
       "      <td>POLYGON ((-88.25741 40.08961, -88.25740 40.089...</td>\n",
       "    </tr>\n",
       "  </tbody>\n",
       "</table>\n",
       "</div>"
      ],
      "text/plain": [
       "   OBJECTID Council_Bill           Case_                Name  \\\n",
       "0         1         None       PL05-0011  Uptown on Columbia   \n",
       "1         2         None   1538-97-07-PD      Victoria Point   \n",
       "2         3         None  1638-00-06-PDA    Barrington Place   \n",
       "3         4         None             411  Hessel on the Park   \n",
       "4         5         None             703         Colony West   \n",
       "\n",
       "              Address              Status  Shape.STArea()  Shape.STLength()  \\\n",
       "0       517 N Hickory  Under Construction    7.564070e+03        355.790576   \n",
       "1         2302 W John          Conforming    2.665699e+05       2104.744005   \n",
       "2  2601 W Springfield      Non-conforming    2.890525e+05       2211.202927   \n",
       "3      1862 Valley Rd                        9.106698e+05       4215.551430   \n",
       "4  Prospect & Windsor                        2.343289e+06       7376.695620   \n",
       "\n",
       "                                          Hyperlink1  \\\n",
       "0  https://cityofchampaign.sharepoint.com/:b:/g/E...   \n",
       "1  https://cityofchampaign.sharepoint.com/:b:/g/E...   \n",
       "2  https://cityofchampaign.sharepoint.com/:b:/g/E...   \n",
       "3  https://cityofchampaign.sharepoint.com/:b:/g/E...   \n",
       "4  https://cityofchampaign.sharepoint.com/:b:/g/E...   \n",
       "\n",
       "                                            geometry  \n",
       "0  POLYGON ((-88.24300 40.12101, -88.24300 40.120...  \n",
       "1  POLYGON ((-88.28425 40.10936, -88.28415 40.109...  \n",
       "2  POLYGON ((-88.28916 40.11125, -88.28918 40.111...  \n",
       "3  POLYGON ((-88.24934 40.09801, -88.24964 40.098...  \n",
       "4  POLYGON ((-88.25741 40.08961, -88.25740 40.089...  "
      ]
     },
     "execution_count": 3,
     "metadata": {},
     "output_type": "execute_result"
    }
   ],
   "source": [
    "plan_deve.head()"
   ]
  },
  {
   "cell_type": "code",
   "execution_count": 7,
   "id": "6ba47905",
   "metadata": {
    "scrolled": false
   },
   "outputs": [
    {
     "data": {
      "text/plain": [
       "array(['Under Construction', 'Conforming', 'Non-conforming', None,\n",
       "       'New Case', 'Complete', 'Non-Conforming (Pending)'], dtype=object)"
      ]
     },
     "execution_count": 7,
     "metadata": {},
     "output_type": "execute_result"
    }
   ],
   "source": [
    "# check unique values in for Status\n",
    "plan_deve['Status'].unique()"
   ]
  },
  {
   "cell_type": "code",
   "execution_count": 8,
   "id": "916f75f0",
   "metadata": {},
   "outputs": [],
   "source": [
    "# set ' ' to None\n",
    "plan_deve[plan_deve['Status'] == ' '] = None"
   ]
  },
  {
   "cell_type": "markdown",
   "id": "f3625cbf",
   "metadata": {},
   "source": [
    "There are some areas has `None` Status, so when we choose `None`, it will show a warning. I am not sure how to make it more reasonably to pass this warning."
   ]
  },
  {
   "cell_type": "code",
   "execution_count": 1,
   "id": "2d1eab6a",
   "metadata": {
    "scrolled": false
   },
   "outputs": [
    {
     "ename": "NameError",
     "evalue": "name 'ipywidgets' is not defined",
     "output_type": "error",
     "traceback": [
      "\u001b[0;31m---------------------------------------------------------------------------\u001b[0m",
      "\u001b[0;31mNameError\u001b[0m                                 Traceback (most recent call last)",
      "Cell \u001b[0;32mIn [1], line 1\u001b[0m\n\u001b[0;32m----> 1\u001b[0m \u001b[38;5;129m@ipywidgets\u001b[39m\u001b[38;5;241m.\u001b[39minteract(Status_type \u001b[38;5;241m=\u001b[39m plan_deve[\u001b[38;5;124m'\u001b[39m\u001b[38;5;124mStatus\u001b[39m\u001b[38;5;124m'\u001b[39m]\u001b[38;5;241m.\u001b[39munique())\n\u001b[1;32m      2\u001b[0m \u001b[38;5;28;01mdef\u001b[39;00m \u001b[38;5;21mmake_geo_plot\u001b[39m(Status_type):\n\u001b[1;32m      3\u001b[0m     plan_subset \u001b[38;5;241m=\u001b[39m plan_deve[plan_deve[\u001b[38;5;124m'\u001b[39m\u001b[38;5;124mStatus\u001b[39m\u001b[38;5;124m'\u001b[39m]\u001b[38;5;241m==\u001b[39mStatus_type]\n\u001b[1;32m      5\u001b[0m     fig, ax \u001b[38;5;241m=\u001b[39m plt\u001b[38;5;241m.\u001b[39msubplots(figsize\u001b[38;5;241m=\u001b[39m(\u001b[38;5;241m8\u001b[39m,\u001b[38;5;241m8\u001b[39m))\n",
      "\u001b[0;31mNameError\u001b[0m: name 'ipywidgets' is not defined"
     ]
    }
   ],
   "source": [
    "@ipywidgets.interact(Status_type = plan_deve['Status'].unique())\n",
    "def make_geo_plot(Status_type):\n",
    "    plan_subset = plan_deve[plan_deve['Status']==Status_type]\n",
    "\n",
    "    fig, ax = plt.subplots(figsize=(8,8))\n",
    "\n",
    "    enterprise.plot(ax=ax, alpha=0.5, edgecolor='k')\n",
    "    plan_subset.plot(column='Status', ax=ax, cmap='rainbow', categorical=True, legend=True)\n",
    "\n",
    "    ctx.add_basemap(ax=ax,crs=enterprise.crs)\n",
    "    plt.show()"
   ]
  },
  {
   "cell_type": "markdown",
   "id": "e68307ec",
   "metadata": {},
   "source": [
    "**Write up**"
   ]
  },
  {
   "cell_type": "markdown",
   "id": "60538b3a",
   "metadata": {},
   "source": [
    "#### What are you trying to show? \n",
    "In this homework, I am trying to use 2 layers interactive plot to show the overlap and relationship of the `Enterprise Zone` and `Planned Developments Areas` in Champaign, which are from [City of Champaign GIS](https://gis-cityofchampaign.opendata.arcgis.com/search?collection=Dataset).\n",
    "`Enterprise` depicts the Champaign County-City of Champaign Joint Enterprise Zone effective January 1, 2016. `Planned Developments` shows areas that are planned to develop.\n",
    "\n",
    "#### What projection are you using and why?\n",
    "I disn't specify a projection. Because it can clearly show the overlap of 2 layers map, it is reasonable to keep it as defult one.\n",
    "\n",
    "#### What did you find interesting? \n",
    "I find almost all planned development areas are in the enterprise zone, only a few designed-to-develop regions are not in the enterprise zone. For example, one under-construction area in the southwest is out of the enterprise zone.\n",
    "I think that means joint enterprise zone always has more chance to develop.\n",
    "\n",
    "#### Who do you think would be interested in using this visualization? \n",
    "I think governments, businesses, and citizens interested in urban development might like this plot. Because they may interested in the city development and they can clearly know the overlap and relationship of the enterprise zone and planned developments areas in Champaign."
   ]
  },
  {
   "cell_type": "code",
   "execution_count": null,
   "id": "e0f82e02",
   "metadata": {},
   "outputs": [],
   "source": []
  },
  {
   "cell_type": "code",
   "execution_count": null,
   "id": "3f397287",
   "metadata": {},
   "outputs": [],
   "source": []
  }
 ],
 "metadata": {
  "kernelspec": {
   "display_name": "Python 3 (ipykernel)",
   "language": "python",
   "name": "python3"
  },
  "language_info": {
   "codemirror_mode": {
    "name": "ipython",
    "version": 3
   },
   "file_extension": ".py",
   "mimetype": "text/x-python",
   "name": "python",
   "nbconvert_exporter": "python",
   "pygments_lexer": "ipython3",
   "version": "3.8.13"
  }
 },
 "nbformat": 4,
 "nbformat_minor": 5
}
